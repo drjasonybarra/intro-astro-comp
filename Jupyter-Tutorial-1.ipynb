{
 "cells": [
  {
   "cell_type": "markdown",
   "metadata": {
    "collapsed": false
   },
   "source": [
    "# Jupyter - Python Tutorial\n",
    "A computational activity developed by Jason E. Ybarra\n",
    "\n",
    "**Learning Objective**: Learn how to use Python in a Jupyter notebook environment to do basic array manipulations and calculations.\n",
    "\n",
    "**Sub-goals for this part**: \n",
    "- Learn to use the *Jupyter* Notebook Python environment.\n",
    "- Refresh function writing skills \n",
    "---\n"
   ]
  },
  {
   "cell_type": "markdown",
   "metadata": {
    "collapsed": false
   },
   "source": [
    "## A. Using a Jupyter Notebook\n",
    "\n",
    "The Jupyter Notebook environment is a browser-based tool for developing, documenting, and running code. A notebook contains a series of cells, which can either contain descriptive text \\( \n",
    "[Markdown](http://jupyter-notebook.readthedocs.io/en/stable/examples/Notebook/Working%20With%20Markdown%20Cells.html) \\) or code. You can use the arrow keys to move from one cell to the next, or you can select a cell with the mouse.\n",
    "\n",
    "### Code Cells\n",
    "Within a code cell, code can be written, edited, or executed. To execute the code in a cell use the key combination <kbd>Shift</kbd> + <kbd>Enter</kbd>. (You can also use the Run button in the toolbar)\n",
    "\n",
    "*1*. In the cell below is Python code for loading in the NumPy module functions. Select the cell and execute the code.\n"
   ]
  },
  {
   "cell_type": "code",
   "execution_count": 0,
   "metadata": {
    "collapsed": false
   },
   "outputs": [
   ],
   "source": [
    "import numpy as np  #Imports NumPy functions"
   ]
  },
  {
   "cell_type": "markdown",
   "metadata": {
    "collapsed": false
   },
   "source": [
    "Notice that after the code begins executing, the next cell is highlighted. When execution is complete a number will show up in the brackets before the code (e.g. [1]).\n",
    "\n",
    "### Markdown Cells\n",
    "Markdown cells can be edited by double-clicking the mouse on the cell. In Markdown, single asterisks surrounding text will *italicize* it, and double asterisks will make it **bold**. To render the Markdown code use <kbd>Shift</kbd> + <kbd>Enter</kbd>.\n",
    "\n",
    "*2*. For the following cell, fix the Markdown code and render it"
   ]
  },
  {
   "cell_type": "markdown",
   "metadata": {
    "collapsed": false
   },
   "source": [
    "**This is italicized text**\n",
    "\n",
    "*This text is bold*"
   ]
  },
  {
   "cell_type": "markdown",
   "metadata": {
    "collapsed": false
   },
   "source": [
    "You can write equations in Markdown using LaTeX commands. For example, \n",
    "the inline equation\n",
    "\\$ x^{2} \\$\n",
    "becomes\n",
    "$ x^{2} $\n",
    "and the display math mode equation\n",
    "```\n",
    "$$ f(x) = \\sqrt{\\frac{\\pi}{2}} $$\n",
    "```\n",
    "becomes\n",
    "$$ f(x) = \\sqrt{\\frac{\\pi}{2}} .$$\n",
    "Trig functions can written using blackslashes \n",
    "(e.g. \\$ \\\\sin x \\$ $\\rightarrow \\sin x$).\n",
    "\n",
    "*3*. In the cell below, using $\\LaTeX$ commands to write the [Pythagorean trigonometric identity](https://en.wikipedia.org/wiki/Pythagorean_trigonometric_identity) and the quadratric equation."
   ]
  },
  {
   "cell_type": "markdown",
   "metadata": {
    "collapsed": false
   },
   "source": [
    "**Pythagorean trigonometric identity**\n",
    "\n",
    "insert LaTeX code here\n",
    "\n",
    "**Quadratic equation**\n",
    "\n",
    "insert LaTeX code here\n",
    "\n",
    "---"
   ]
  },
  {
   "cell_type": "markdown",
   "metadata": {
    "collapsed": false
   },
   "source": [
    "## B. Writing Python functions\n",
    "\n",
    "Components of a Python function are\n",
    "- name (in the header)\n",
    "- input variables (in the header)\n",
    "- definition (in the indented body)\n",
    "- *optional* output (using return command in last line of the body)\n",
    "\n",
    "Look at the following piece of Python code \n",
    "\n",
    "```\n",
    "import math\n",
    "\n",
    "def tipcalculator(bill):\n",
    "    tip = math.ceil(0.2 * bill)\n",
    "    return tip\n",
    "```\n",
    "\n",
    "*1*. Indentify the following components of the created function:"
   ]
  },
  {
   "cell_type": "markdown",
   "metadata": {
    "collapsed": false
   },
   "source": [
    "function name:\n",
    "\n",
    "input variable(s):\n",
    "\n",
    "definition:\n",
    "\n",
    "output:"
   ]
  },
  {
   "cell_type": "markdown",
   "metadata": {
    "collapsed": false
   },
   "source": [
    "*2*. Execute the code to create the tipcalculator function"
   ]
  },
  {
   "cell_type": "code",
   "execution_count": 0,
   "metadata": {
    "collapsed": true
   },
   "outputs": [
   ],
   "source": [
    "import math\n",
    "\n",
    "def tipcalculator(bill):\n",
    "    tip = math.ceil(0.2 * bill)\n",
    "    return tip"
   ]
  },
  {
   "cell_type": "markdown",
   "metadata": {
    "collapsed": false
   },
   "source": [
    "Suppose your restaurant bill is \\$14.95. To use the function you can type\n",
    "```\n",
    "tipcalculator(14.95)\n",
    "```\n",
    "You can also output to a new variable\n",
    "```\n",
    "myTip = tipcalculator(14.95)\n",
    "```\n",
    "To see what is contained in a variable, just type the variable name and execute\n",
    "```\n",
    "myTip\n",
    "```\n",
    "\n",
    "*3*. You can also also add a line in the function to display particular text. Try the code below. \\( [more info on string formatting](https://pyformat.info/) \\)"
   ]
  },
  {
   "cell_type": "code",
   "execution_count": 0,
   "metadata": {
    "collapsed": true
   },
   "outputs": [
   ],
   "source": [
    "def bettertipcalculator(bill):\n",
    "    tip = math.ceil(0.2 * bill)\n",
    "    print('Tip amount: ${:5.2f}'.format(tip))\n",
    "    return tip\n",
    "\n",
    "bettertipcalculator(14.95)"
   ]
  },
  {
   "cell_type": "markdown",
   "metadata": {
    "collapsed": false
   },
   "source": [
    "*4*. Suppose you want to vary the percentage of the tip given whenever you called the function. Discuss with a partner how you might do this, and write a new function below."
   ]
  },
  {
   "cell_type": "code",
   "execution_count": 0,
   "metadata": {
    "collapsed": true
   },
   "outputs": [
   ],
   "source": [
    "#insert code here"
   ]
  },
  {
   "cell_type": "markdown",
   "metadata": {
    "collapsed": false
   },
   "source": [
    "*Optional*: write the function so that the minimum percentage it will calculate a tip for is 15% and will gently admonish the user for inputting a percentage less than 18%."
   ]
  }
 ],
 "metadata": {
  "kernelspec": {
   "display_name": "Python 3 (system-wide)",
   "language": "python",
   "metadata": {
    "cocalc": {
     "description": "Python 3 programming language",
     "priority": 100,
     "url": "https://www.python.org/"
    }
   },
   "name": "python3",
   "resource_dir": "/ext/jupyter/kernels/python3"
  },
  "language_info": {
   "codemirror_mode": {
    "name": "ipython",
    "version": 3
   },
   "file_extension": ".py",
   "mimetype": "text/x-python",
   "name": "python",
   "nbconvert_exporter": "python",
   "pygments_lexer": "ipython3",
   "version": "3.8.2"
  }
 },
 "nbformat": 4,
 "nbformat_minor": 4
}